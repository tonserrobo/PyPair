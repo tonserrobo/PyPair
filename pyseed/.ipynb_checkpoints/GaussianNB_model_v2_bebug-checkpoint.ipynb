{
 "cells": [
  {
   "cell_type": "code",
   "execution_count": 3,
   "id": "6f30fc5a-9b9a-4949-83f0-e598d8cafd5d",
   "metadata": {},
   "outputs": [],
   "source": [
    "import pandas as pd\n",
    "from sklearn.model_selection import train_test_split\n",
    "from sklearn.naive_bayes import GaussianNB\n",
    "#import seaborn as sns\n",
    "\n",
    "# Importing the required libraries\n",
    "from sklearn.metrics import classification_report\n",
    "from sklearn.model_selection import train_test_split\n",
    "from sklearn.metrics import roc_auc_score, roc_curve\n",
    "from sklearn import metrics\n",
    "import pandas as pd\n",
    "\n",
    "from numpy import arange\n",
    "from sklearn.model_selection import cross_val_score\n",
    "\n",
    "# https://towardsdatascience.com/understanding-decision-trees-for-classification-python-9663d683c952"
   ]
  },
  {
   "cell_type": "code",
   "execution_count": 1,
   "id": "801ebe7c",
   "metadata": {},
   "outputs": [
    {
     "name": "stderr",
     "output_type": "stream",
     "text": [
      "\u001b[34m\u001b[1mwandb\u001b[0m: You can find your API key in your browser here: https://wandb.ai/authorize\n"
     ]
    },
    {
     "name": "stdout",
     "output_type": "stream",
     "text": [
      "wandb: Paste an API key from your profile and hit enter, or press ctrl+c to quit: ········\n"
     ]
    },
    {
     "name": "stderr",
     "output_type": "stream",
     "text": [
      "\u001b[34m\u001b[1mwandb\u001b[0m: Appending key for api.wandb.ai to your netrc file: C:\\Users\\B00460204/.netrc\n"
     ]
    },
    {
     "data": {
      "text/html": [
       "\n",
       "                    Syncing run <strong><a href=\"https://wandb.ai/tonserrobo/gnb_seed_generation/runs/20qbdo5h\" target=\"_blank\">fragrant-oath-1</a></strong> to <a href=\"https://wandb.ai/tonserrobo/gnb_seed_generation\" target=\"_blank\">Weights & Biases</a> (<a href=\"https://docs.wandb.com/integrations/jupyter.html\" target=\"_blank\">docs</a>).<br/>\n",
       "\n",
       "                "
      ],
      "text/plain": [
       "<IPython.core.display.HTML object>"
      ]
     },
     "metadata": {},
     "output_type": "display_data"
    },
    {
     "data": {
      "text/html": [
       "<button onClick=\"this.nextSibling.style.display='block';this.style.display='none';\">Display W&B run</button><iframe src=\"https://wandb.ai/tonserrobo/gnb_seed_generation/runs/20qbdo5h?jupyter=true\" style=\"border:none;width:100%;height:420px;display:none;\"></iframe>"
      ],
      "text/plain": [
       "<wandb.sdk.wandb_run.Run at 0x19b9ec2c580>"
      ]
     },
     "execution_count": 1,
     "metadata": {},
     "output_type": "execute_result"
    }
   ],
   "source": [
    "# weights and biasis login and setup\n",
    "import wandb\n",
    "wandb.init(project=\"gnb_seed_generation\")\n"
   ]
  },
  {
   "cell_type": "markdown",
   "id": "c72a293c",
   "metadata": {},
   "source": [
    "# Training Data Preparation"
   ]
  },
  {
   "cell_type": "code",
   "execution_count": 11,
   "id": "9f449e4a",
   "metadata": {},
   "outputs": [
    {
     "ename": "NameError",
     "evalue": "name 'count' is not defined",
     "output_type": "error",
     "traceback": [
      "\u001b[1;31m---------------------------------------------------------------------------\u001b[0m",
      "\u001b[1;31mNameError\u001b[0m                                 Traceback (most recent call last)",
      "\u001b[1;32mC:\\Users\\B00460~1\\AppData\\Local\\Temp/ipykernel_1904/1826009945.py\u001b[0m in \u001b[0;36m<module>\u001b[1;34m\u001b[0m\n\u001b[0;32m     40\u001b[0m \u001b[1;31m#len(training_data['k-seed'])\u001b[0m\u001b[1;33m\u001b[0m\u001b[1;33m\u001b[0m\u001b[0m\n\u001b[0;32m     41\u001b[0m \u001b[1;33m\u001b[0m\u001b[0m\n\u001b[1;32m---> 42\u001b[1;33m \u001b[0mtraining_data_expanded\u001b[0m \u001b[1;33m=\u001b[0m \u001b[0mgenerate_training_data\u001b[0m\u001b[1;33m(\u001b[0m\u001b[0mtraining_data\u001b[0m\u001b[1;33m)\u001b[0m\u001b[1;33m\u001b[0m\u001b[1;33m\u001b[0m\u001b[0m\n\u001b[0m\u001b[0;32m     43\u001b[0m \u001b[1;31m#training_data_expanded.to_csv(r\"C:\\Users\\B00460204\\OneDrive - Ulster University\\Phd - FPGA acceleration in genomics\\2020-21 MainResearch\\Seed_generation\\rapid-SMEM\\Rapid-SMEM\\gnb_seed_generation\\data_sets\\training_data_expanded.csv\")\u001b[0m\u001b[1;33m\u001b[0m\u001b[1;33m\u001b[0m\u001b[0m\n",
      "\u001b[1;32mC:\\Users\\B00460~1\\AppData\\Local\\Temp/ipykernel_1904/1826009945.py\u001b[0m in \u001b[0;36mgenerate_training_data\u001b[1;34m(training_data)\u001b[0m\n\u001b[0;32m     19\u001b[0m         \u001b[0my\u001b[0m \u001b[1;33m=\u001b[0m \u001b[1;33m[\u001b[0m\u001b[1;33m]\u001b[0m\u001b[1;33m\u001b[0m\u001b[1;33m\u001b[0m\u001b[0m\n\u001b[0;32m     20\u001b[0m \u001b[1;33m\u001b[0m\u001b[0m\n\u001b[1;32m---> 21\u001b[1;33m         \u001b[1;32mwhile\u001b[0m \u001b[0mcount\u001b[0m \u001b[1;33m<=\u001b[0m \u001b[0miterations\u001b[0m\u001b[1;33m:\u001b[0m\u001b[1;33m\u001b[0m\u001b[1;33m\u001b[0m\u001b[0m\n\u001b[0m\u001b[0;32m     22\u001b[0m             \u001b[0mx_data\u001b[0m \u001b[1;33m=\u001b[0m \u001b[0mtraining_data_x\u001b[0m\u001b[1;33m\u001b[0m\u001b[1;33m\u001b[0m\u001b[0m\n\u001b[0;32m     23\u001b[0m             \u001b[0mx\u001b[0m\u001b[1;33m.\u001b[0m\u001b[0mappend\u001b[0m\u001b[1;33m(\u001b[0m\u001b[0mx_data\u001b[0m\u001b[1;33m)\u001b[0m\u001b[1;33m\u001b[0m\u001b[1;33m\u001b[0m\u001b[0m\n",
      "\u001b[1;31mNameError\u001b[0m: name 'count' is not defined"
     ]
    }
   ],
   "source": [
    "def generate_training_data(training_data):\n",
    "        iterations = 1\n",
    "        training_data_x = training_data['k-seed']\n",
    "        training_data_y = training_data['position_label']\n",
    "        \n",
    "        seed_expansion = []\n",
    "        \n",
    "        iter_range = len(training_data_x)*iterations\n",
    "        #print(iter_range)\n",
    "        \n",
    "        for i in range(iter_range):\n",
    "            seed_row = training_data_x.T.values.tolist()\n",
    "            seed_expansion.append(seed_row)\n",
    "        \n",
    "        training_data_expanded = pd.DataFrame(seed_expansion)\n",
    "        del seed_expansion\n",
    "        \n",
    "        x = []\n",
    "        y = []\n",
    "\n",
    "        count = 0\n",
    "        while count <= iterations:\n",
    "            x_data = training_data_x\n",
    "            x.append(x_data)\n",
    "        \n",
    "        print(len(x))\n",
    "        training_data_expanded['input_reads'] = x\n",
    "#         del x\n",
    "        \n",
    "#         for i in range(iter_range):\n",
    "#             for i in training_data_y:\n",
    "#                 y.append(i)\n",
    "\n",
    "#         print(len(y))\n",
    "#         training_data_expanded['position_labels'] = y\n",
    "#         del y\n",
    "        \n",
    "        return 0\n",
    "    \n",
    "training_data = pd.read_csv(r\"C:\\Users\\B00460204\\OneDrive - Ulster University\\Phd - FPGA acceleration in genomics\\2020-21 MainResearch\\Seed_generation\\rapid-SMEM\\Rapid-SMEM\\gnb_seed_generation\\data_sets\\training_data.csv\")\n",
    "#len(training_data['k-seed'])\n",
    "\n",
    "training_data_expanded = generate_training_data(training_data)\n",
    "#training_data_expanded.to_csv(r\"C:\\Users\\B00460204\\OneDrive - Ulster University\\Phd - FPGA acceleration in genomics\\2020-21 MainResearch\\Seed_generation\\rapid-SMEM\\Rapid-SMEM\\gnb_seed_generation\\data_sets\\training_data_expanded.csv\")"
   ]
  },
  {
   "cell_type": "code",
   "execution_count": 53,
   "id": "c83f316f",
   "metadata": {},
   "outputs": [
    {
     "ename": "NameError",
     "evalue": "name 'iter_range' is not defined",
     "output_type": "error",
     "traceback": [
      "\u001b[1;31m---------------------------------------------------------------------------\u001b[0m",
      "\u001b[1;31mNameError\u001b[0m                                 Traceback (most recent call last)",
      "\u001b[1;32mC:\\Users\\B00460~1\\AppData\\Local\\Temp/ipykernel_17096/3996255268.py\u001b[0m in \u001b[0;36m<module>\u001b[1;34m\u001b[0m\n\u001b[1;32m----> 1\u001b[1;33m \u001b[0miter_range\u001b[0m\u001b[1;33m\u001b[0m\u001b[1;33m\u001b[0m\u001b[0m\n\u001b[0m",
      "\u001b[1;31mNameError\u001b[0m: name 'iter_range' is not defined"
     ]
    }
   ],
   "source": [
    "iter_range"
   ]
  },
  {
   "cell_type": "markdown",
   "id": "f6dc8029-6b77-493e-9499-f9fb44bebfa5",
   "metadata": {},
   "source": [
    "# global functions"
   ]
  },
  {
   "cell_type": "code",
   "execution_count": null,
   "id": "95931a86-781f-4cf3-9bee-e427a8a47f71",
   "metadata": {},
   "outputs": [],
   "source": [
    "# def roc_auc_score_multiclass(actual_class, pred_class, average = \"macro\"):\n",
    "    \n",
    "#   #creating a set of all the unique classes using the actual class list\n",
    "#   unique_class = set(actual_class)\n",
    "#   roc_auc_dict = {}\n",
    "#   for per_class in unique_class:\n",
    "#     #creating a list of all the classes except the current class \n",
    "#     other_class = [x for x in unique_class if x != per_class]\n",
    "\n",
    "#     #marking the current class as 1 and all other classes as 0\n",
    "#     new_actual_class = [0 if x in other_class else 1 for x in actual_class]\n",
    "#     new_pred_class = [0 if x in other_class else 1 for x in pred_class]\n",
    "\n",
    "#     #using the sklearn metrics method to calculate the roc_auc_score\n",
    "#     roc_auc = roc_auc_score(new_actual_class, new_pred_class, average = average)\n",
    "#     #b_score = metrics.brier_score_loss(new_actual_class, new_pred_class)\n",
    "#     roc_auc_dict[per_class] = roc_auc\n",
    "\n",
    "#   return roc_auc_dict"
   ]
  },
  {
   "cell_type": "markdown",
   "id": "86121864-e4f7-435f-b042-38c3ac28ecb1",
   "metadata": {},
   "source": [
    "## Data preprocessing"
   ]
  },
  {
   "cell_type": "code",
   "execution_count": null,
   "id": "b7c31a07-93b1-4b32-9f8d-c2fc4390a67e",
   "metadata": {},
   "outputs": [],
   "source": [
    "df = pd.read_csv(r\"C:\\Users\\B00460204\\OneDrive - Ulster University\\Phd - FPGA acceleration in genomics\\2020-21 MainResearch\\Seed_generation\\rapid-SMEM\\Rapid-SMEM\\gnb_seed_generation\\data_sets\\training_data_expanded.csv\")"
   ]
  },
  {
   "cell_type": "code",
   "execution_count": null,
   "id": "f83168dc-9d1d-41d7-b0ee-165408606029",
   "metadata": {},
   "outputs": [],
   "source": [
    "# segreate data vs label columns\n",
    "x = df.loc[:,df.columns != 'position_labels']\n",
    "y = df.loc[:, 'position_labels']"
   ]
  },
  {
   "cell_type": "code",
   "execution_count": null,
   "id": "23c521c6-bd22-49ea-b8a1-495135e3431e",
   "metadata": {},
   "outputs": [],
   "source": [
    "# first training split (80/20)\n",
    "X_train, X_test, y_train, y_test = train_test_split(x,y, shuffle=True, test_size=0.2)"
   ]
  },
  {
   "cell_type": "code",
   "execution_count": null,
   "id": "d1e4cc37-3453-4dc1-b526-46f5eb3415b8",
   "metadata": {},
   "outputs": [],
   "source": [
    "# second training split\n",
    "X_train, X_val, y_train, y_val = train_test_split(X_train, y_train,shuffle=True, test_size=0.2)"
   ]
  },
  {
   "cell_type": "markdown",
   "id": "917ef985",
   "metadata": {},
   "source": [
    "# hypter tunning"
   ]
  },
  {
   "cell_type": "code",
   "execution_count": null,
   "id": "1edec00b",
   "metadata": {},
   "outputs": [],
   "source": []
  },
  {
   "cell_type": "code",
   "execution_count": null,
   "id": "ef7b0103",
   "metadata": {},
   "outputs": [],
   "source": []
  },
  {
   "cell_type": "code",
   "execution_count": null,
   "id": "437e6376",
   "metadata": {},
   "outputs": [],
   "source": []
  },
  {
   "cell_type": "code",
   "execution_count": null,
   "id": "58a5b951",
   "metadata": {},
   "outputs": [],
   "source": []
  },
  {
   "cell_type": "markdown",
   "id": "deb21049-0031-4b55-a7ae-ae1a84cff493",
   "metadata": {},
   "source": [
    "# model "
   ]
  },
  {
   "cell_type": "code",
   "execution_count": null,
   "id": "d9e89323-9a6b-4779-8085-d5b906bbc340",
   "metadata": {},
   "outputs": [],
   "source": [
    "model = GaussianNB()\n",
    "\n",
    "model.fit(X_train, y_train)\n",
    "cv_scores = cross_val_score(model, X_train, y_train, cv=3)\n",
    "cv_s = cv_scores.mean()\n",
    "print(\"CV average score: %.2f\" % cv_s)"
   ]
  },
  {
   "cell_type": "code",
   "execution_count": null,
   "id": "7e9900a7-54ba-4dc1-a777-04b2cd135d03",
   "metadata": {},
   "outputs": [],
   "source": [
    "y_predict = model.predict(X_val)"
   ]
  },
  {
   "cell_type": "code",
   "execution_count": null,
   "id": "a7c58e57",
   "metadata": {},
   "outputs": [],
   "source": [
    "cluster_labels = kmeans.fit_predict(X_train)"
   ]
  },
  {
   "cell_type": "code",
   "execution_count": null,
   "id": "715679e7",
   "metadata": {},
   "outputs": [],
   "source": [
    "wandb.sklearn.plot_elbow_curve(model, X_train)"
   ]
  },
  {
   "cell_type": "code",
   "execution_count": null,
   "id": "2ed9cb96",
   "metadata": {},
   "outputs": [],
   "source": [
    "def get_label_ids(classes):\n",
    "    return np.array([names[aclass] for aclass in classes])\n",
    "labels = get_label_ids(y_train)"
   ]
  },
  {
   "cell_type": "code",
   "execution_count": null,
   "id": "ec4d00c3",
   "metadata": {},
   "outputs": [],
   "source": [
    "wandb.sklearn.plot_silhouette(model, X_train, labels)"
   ]
  },
  {
   "cell_type": "code",
   "execution_count": null,
   "id": "c8b05748",
   "metadata": {},
   "outputs": [],
   "source": [
    "wandb.sklearn.plot_clusterer(model, X, cluster_labels, labels, 'gnb')"
   ]
  },
  {
   "cell_type": "markdown",
   "id": "27256325",
   "metadata": {},
   "source": [
    "# Evaluation"
   ]
  },
  {
   "cell_type": "code",
   "execution_count": null,
   "id": "8107732e-f6e6-4753-9193-2044cd931b62",
   "metadata": {},
   "outputs": [],
   "source": [
    "# Printing Accuracy on Training and Test sets\n",
    "print(f\"Training Set Score : {model.score(X_train, y_train) * 100} %\")\n",
    "print(f\"Test Set Score : {model.score(X_test, y_test) * 100} %\")\n",
    " \n",
    "# Printing classification report of classifier on the test set set data\n",
    "print(f\"Model Classification Report : \\n{classification_report(y_test, model.predict(X_test))}\")"
   ]
  },
  {
   "cell_type": "code",
   "execution_count": null,
   "id": "a86a83ee",
   "metadata": {},
   "outputs": [],
   "source": [
    " wandb.finish()"
   ]
  },
  {
   "cell_type": "markdown",
   "id": "09e29740",
   "metadata": {},
   "source": [
    "# ROC AUC score"
   ]
  },
  {
   "cell_type": "code",
   "execution_count": 42,
   "id": "491eb6e9-77e4-4c22-9c16-be6384db5ab9",
   "metadata": {},
   "outputs": [
    {
     "data": {
      "text/plain": [
       "array([ 2, 14,  7, ...,  3,  7, 10], dtype=int64)"
      ]
     },
     "execution_count": 42,
     "metadata": {},
     "output_type": "execute_result"
    }
   ],
   "source": [
    "import numpy as np\n",
    "y_true = np.array(y_val)\n",
    "y_predict"
   ]
  },
  {
   "cell_type": "code",
   "execution_count": 43,
   "id": "9d4fb10b",
   "metadata": {},
   "outputs": [],
   "source": [
    "# roc_auc_multiclass cal\n",
    "lr_roc_auc_multiclass = roc_auc_score_multiclass(y_true, y_predict)"
   ]
  },
  {
   "cell_type": "code",
   "execution_count": 44,
   "id": "3db3c214",
   "metadata": {},
   "outputs": [
    {
     "data": {
      "text/plain": [
       "{0: 1.0,\n",
       " 1: 1.0,\n",
       " 2: 1.0,\n",
       " 3: 1.0,\n",
       " 4: 1.0,\n",
       " 5: 1.0,\n",
       " 6: 1.0,\n",
       " 7: 1.0,\n",
       " 8: 1.0,\n",
       " 9: 1.0,\n",
       " 10: 1.0,\n",
       " 11: 1.0,\n",
       " 12: 0.966107439417048,\n",
       " 13: 0.5,\n",
       " 14: 1.0,\n",
       " 15: 1.0}"
      ]
     },
     "execution_count": 44,
     "metadata": {},
     "output_type": "execute_result"
    }
   ],
   "source": [
    "lr_roc_auc_multiclass"
   ]
  },
  {
   "cell_type": "code",
   "execution_count": 45,
   "id": "cd29757d",
   "metadata": {},
   "outputs": [
    {
     "name": "stdout",
     "output_type": "stream",
     "text": [
      "[(0, 1.0), (1, 1.0), (2, 1.0), (3, 1.0), (4, 1.0), (5, 1.0), (6, 1.0), (7, 1.0), (8, 1.0), (9, 1.0), (10, 1.0), (11, 1.0), (12, 0.966107439417048), (13, 0.5), (14, 1.0), (15, 1.0)]\n"
     ]
    }
   ],
   "source": [
    "a_view = lr_roc_auc_multiclass.items()\n",
    "a_list = list(a_view)\n",
    "print(a_list)"
   ]
  },
  {
   "cell_type": "code",
   "execution_count": 46,
   "id": "c58806ef",
   "metadata": {},
   "outputs": [],
   "source": [
    "roc = pd.DataFrame(a_list)"
   ]
  },
  {
   "cell_type": "code",
   "execution_count": 47,
   "id": "92d7e8d3",
   "metadata": {},
   "outputs": [
    {
     "data": {
      "text/html": [
       "<div>\n",
       "<style scoped>\n",
       "    .dataframe tbody tr th:only-of-type {\n",
       "        vertical-align: middle;\n",
       "    }\n",
       "\n",
       "    .dataframe tbody tr th {\n",
       "        vertical-align: top;\n",
       "    }\n",
       "\n",
       "    .dataframe thead th {\n",
       "        text-align: right;\n",
       "    }\n",
       "</style>\n",
       "<table border=\"1\" class=\"dataframe\">\n",
       "  <thead>\n",
       "    <tr style=\"text-align: right;\">\n",
       "      <th></th>\n",
       "      <th>0</th>\n",
       "      <th>1</th>\n",
       "    </tr>\n",
       "  </thead>\n",
       "  <tbody>\n",
       "    <tr>\n",
       "      <th>count</th>\n",
       "      <td>16.000000</td>\n",
       "      <td>16.000000</td>\n",
       "    </tr>\n",
       "    <tr>\n",
       "      <th>mean</th>\n",
       "      <td>7.500000</td>\n",
       "      <td>0.966632</td>\n",
       "    </tr>\n",
       "    <tr>\n",
       "      <th>std</th>\n",
       "      <td>4.760952</td>\n",
       "      <td>0.124722</td>\n",
       "    </tr>\n",
       "    <tr>\n",
       "      <th>min</th>\n",
       "      <td>0.000000</td>\n",
       "      <td>0.500000</td>\n",
       "    </tr>\n",
       "    <tr>\n",
       "      <th>25%</th>\n",
       "      <td>3.750000</td>\n",
       "      <td>1.000000</td>\n",
       "    </tr>\n",
       "    <tr>\n",
       "      <th>50%</th>\n",
       "      <td>7.500000</td>\n",
       "      <td>1.000000</td>\n",
       "    </tr>\n",
       "    <tr>\n",
       "      <th>75%</th>\n",
       "      <td>11.250000</td>\n",
       "      <td>1.000000</td>\n",
       "    </tr>\n",
       "    <tr>\n",
       "      <th>max</th>\n",
       "      <td>15.000000</td>\n",
       "      <td>1.000000</td>\n",
       "    </tr>\n",
       "  </tbody>\n",
       "</table>\n",
       "</div>"
      ],
      "text/plain": [
       "               0          1\n",
       "count  16.000000  16.000000\n",
       "mean    7.500000   0.966632\n",
       "std     4.760952   0.124722\n",
       "min     0.000000   0.500000\n",
       "25%     3.750000   1.000000\n",
       "50%     7.500000   1.000000\n",
       "75%    11.250000   1.000000\n",
       "max    15.000000   1.000000"
      ]
     },
     "execution_count": 47,
     "metadata": {},
     "output_type": "execute_result"
    }
   ],
   "source": [
    "roc.describe()"
   ]
  },
  {
   "cell_type": "markdown",
   "id": "16336e47",
   "metadata": {},
   "source": [
    "# save results and model"
   ]
  },
  {
   "cell_type": "code",
   "execution_count": 48,
   "id": "fcba6140-b97f-4859-abd2-eb695e8e7e61",
   "metadata": {},
   "outputs": [],
   "source": [
    "name = \"\\Gaus_roc.csv\"\n",
    "roc.to_csv(r\"C:\\Users\\tonyr\\OneDrive - Ulster University\\Phd - FPGA acceleration in genomics\\2020-21 MainResearch\\Seed_generation\\rapid-SMEM\\Rapid-SMEM\\results\" + name)"
   ]
  },
  {
   "cell_type": "code",
   "execution_count": 49,
   "id": "68a4bec8-9261-491b-b3ad-d2a85bc67545",
   "metadata": {},
   "outputs": [],
   "source": [
    "import pickle\n",
    "\n",
    "model_name = \"\\Gaus.pkl\"\n",
    "file_path = r\"C:\\Users\\tonyr\\OneDrive - Ulster University\\Phd - FPGA acceleration in genomics\\2020-21 MainResearch\\Seed_generation\\rapid-SMEM\\Rapid-SMEM\\saved_models\"\n",
    "pkl_filename = file_path + model_name\n",
    "with open(pkl_filename, 'wb') as file:\n",
    "    pickle.dump(model, file)"
   ]
  },
  {
   "cell_type": "code",
   "execution_count": null,
   "id": "982c69a1-bcea-44ee-81f8-fc8f0e0d0e45",
   "metadata": {},
   "outputs": [],
   "source": []
  }
 ],
 "metadata": {
  "interpreter": {
   "hash": "96f1127a14846d6815b2dd5e87b1c567f2d9316d3ef15ac6216140bf817412e7"
  },
  "kernelspec": {
   "display_name": "Python 3 (ipykernel)",
   "language": "python",
   "name": "python3"
  },
  "language_info": {
   "codemirror_mode": {
    "name": "ipython",
    "version": 3
   },
   "file_extension": ".py",
   "mimetype": "text/x-python",
   "name": "python",
   "nbconvert_exporter": "python",
   "pygments_lexer": "ipython3",
   "version": "3.9.7"
  }
 },
 "nbformat": 4,
 "nbformat_minor": 5
}
